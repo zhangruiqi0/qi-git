{
 "cells": [
  {
   "cell_type": "markdown",
   "metadata": {},
   "source": [
    "# 6、将你的其中一个假设落实，如果能完成两个更好，但不强求\n",
    "\n",
    "利用TimingSignal最后输出long、short、long_short这三个绩效表出来\n"
   ]
  },
  {
   "cell_type": "code",
   "execution_count": 39,
   "metadata": {},
   "outputs": [
    {
     "name": "stdout",
     "output_type": "stream",
     "text": [
      "Initialize dataview success.\n"
     ]
    }
   ],
   "source": [
    "import warnings\n",
    "from jaqs_fxdayu.data.dataservice import LocalDataService\n",
    "from jaqs_fxdayu.data.hf_dataview import HFDataView\n",
    "import pandas as pd\n",
    "warnings.filterwarnings('ignore')\n",
    "ds = LocalDataService()\n",
    "\n",
    "## 加freq参数\n",
    "path = r'../min_data/VnTrader_1Min_Db'\n",
    "props = {'fields': 'open,high,low,close,volume',\n",
    "         'symbol': 'BTCUSDT:binance',\n",
    "         'freq': '30Min,4H',\n",
    "         'start_date':20180601000000}\n",
    "\n",
    "Time_dict = ds.bar_reader(path,props) #读取数据\n",
    "\n",
    "dv4H = HFDataView()\n",
    "dv4H.create_init_dv(Time_dict['4H'].dropna().set_index([\"trade_date\",\"symbol\"]))\n",
    "\n",
    "dv4H.add_formula('MACD',\"Ta('EMA',0,0,0,0,close,0,12)-Ta('EMA',0,0,0,0,close,0,26)\",add_data=True)\n",
    "dv4H.add_formula('MACD_Signal',\"Ta('EMA',0,0,0,0,MACD,0,9)\",add_data=True)\n",
    "dv4H.add_formula('MACD_Hist',\"(MACD-MACD_Signal)\",add_data=True)\n",
    "\n",
    "MACD=dv4H.get_ts('MACD', date_type='datetime') \n",
    "MACD_Signal=dv4H.get_ts('MACD_Signal', date_type='datetime') \n",
    "MACD_Hist=dv4H.get_ts('MACD_Hist', date_type='datetime') "
   ]
  },
  {
   "cell_type": "code",
   "execution_count": 41,
   "metadata": {},
   "outputs": [
    {
     "name": "stdout",
     "output_type": "stream",
     "text": [
      "Field [longMACD] is overwritten.\n",
      "Field [shortMACD] is overwritten.\n",
      "Field [closeLongMACD] is overwritten.\n",
      "Field [closeShortMACD] is overwritten.\n"
     ]
    },
    {
     "data": {
      "text/plain": [
       "Series([], dtype: float64)"
      ]
     },
     "execution_count": 41,
     "metadata": {},
     "output_type": "execute_result"
    }
   ],
   "source": [
    "#验证假设：MACD因子由小于0变为大于0进场，由大于0变为小于0出场\n",
    "from jaqs_fxdayu.data.hf_dataview import HFDataView\n",
    "#进场信号\n",
    "long = dv4H.add_formula('longMACD','If((MACD_Hist>0) && (Delay(MACD_Hist,1)<=0),2,0)',add_data = True)    \n",
    "short = dv4H.add_formula('shortMACD','If((MACD_Hist<=0) && (Delay(MACD_Hist,1)>0),-2,0)',add_data = True)  \n",
    "#出场信号\n",
    "close_long = dv4H.add_formula('closeLongMACD','If(longMACD==-2,1,0)',add_data = True)\n",
    "close_short = dv4H.add_formula('closeShortMACD','If(shortMACD==2,-1,0)',add_data = True)\n",
    "\n",
    "dv4H.get_ts('longMACD').stack()[dv4H.get_ts('longMACD').stack()==2]\n",
    "dv4H.get_ts('shortMACD').stack()[dv4H.get_ts('shortMACD').stack()==2]"
   ]
  },
  {
   "cell_type": "code",
   "execution_count": 43,
   "metadata": {},
   "outputs": [
    {
     "name": "stdout",
     "output_type": "stream",
     "text": [
      "Nan Data Count (should be zero) : 0;  Percentage of effective data: 3%\n",
      "Nan Data Count (should be zero) : 0;  Percentage of effective data: 3%\n",
      "*****-Summary-*****\n",
      "Event Analysis\n",
      "                      win    loss     all\n",
      "t-stat              2.293 -10.255  -0.362\n",
      "p-value             0.084   0.000   0.722\n",
      "mean                0.122  -0.059  -0.009\n",
      "std                 0.106   0.020   0.100\n",
      "info_ratio          1.147  -2.960  -0.088\n",
      "skewness            0.968   1.428   2.049\n",
      "kurtosis           -0.384   3.366   3.732\n",
      "pct5                0.018  -0.084  -0.081\n",
      "pct25               0.055  -0.064  -0.063\n",
      "pct50               0.096  -0.060  -0.055\n",
      "pct75               0.130  -0.055   0.006\n",
      "pct95               0.280  -0.032   0.158\n",
      "occurance           5.000  13.000  18.000\n",
      "win_ratio             NaN     NaN   0.278\n",
      "win_mean/loss_mean    NaN     NaN   2.065\n",
      "*****-Summary-*****\n",
      "Event Analysis\n",
      "                      win    loss     all\n",
      "t-stat              4.572  -7.591   0.212\n",
      "p-value             0.004   0.000   0.835\n",
      "mean                0.126  -0.060   0.005\n",
      "std                 0.067   0.027   0.100\n",
      "info_ratio          1.867  -2.191   0.049\n",
      "skewness            0.756  -0.274   1.004\n",
      "kurtosis           -0.747   1.285  -0.009\n",
      "pct5                0.056  -0.103  -0.089\n",
      "pct25               0.074  -0.072  -0.058\n",
      "pct50               0.116  -0.056  -0.052\n",
      "pct75               0.156  -0.052   0.072\n",
      "pct95               0.234  -0.021   0.196\n",
      "occurance           7.000  13.000  20.000\n",
      "win_ratio             NaN     NaN   0.350\n",
      "win_mean/loss_mean    NaN     NaN   2.087\n",
      "*****-Summary-*****\n",
      "Event Analysis\n",
      "                       win    loss     all\n",
      "t-stat               4.802 -12.406  -0.097\n",
      "p-value              0.001   0.000   0.923\n",
      "mean                 0.124  -0.060  -0.002\n",
      "std                  0.086   0.024   0.100\n",
      "info_ratio           1.448  -2.481  -0.016\n",
      "skewness             0.947   0.173   1.488\n",
      "kurtosis            -0.002   2.262   1.605\n",
      "pct5                 0.031  -0.092  -0.088\n",
      "pct25                0.065  -0.066  -0.062\n",
      "pct50                0.106  -0.058  -0.054\n",
      "pct75                0.146  -0.054   0.054\n",
      "pct95                0.281  -0.009   0.202\n",
      "occurance           12.000  26.000  38.000\n",
      "win_ratio              NaN     NaN   0.316\n",
      "win_mean/loss_mean     NaN     NaN   2.082\n"
     ]
    }
   ],
   "source": [
    "from jaqs_fxdayu.research import TimingDigger\n",
    "\n",
    "def TimingSignal(td, dv, long='long', short='short', closeLong='closeLong', closeShort='closeShort', mhp=None, sl=None, sp=None):\n",
    "    \n",
    "    td.process_signal(\n",
    "        sig_type='long',\n",
    "        enter_signal=dv.get_ts(long),\n",
    "        exit_signal=dv.get_ts(closeLong),\n",
    "        price=dv.get_ts('close'),\n",
    "        max_holding_period=mhp,\n",
    "        stoploss=-sl,\n",
    "        stopprofit=sp\n",
    "    )\n",
    "    \n",
    "    td.process_signal(\n",
    "        sig_type='short',\n",
    "        enter_signal=dv.get_ts(short),\n",
    "        exit_signal=dv.get_ts(closeShort),\n",
    "        price=dv.get_ts('close'),\n",
    "        max_holding_period=mhp,\n",
    "        stoploss=-sl,\n",
    "        stopprofit=sp\n",
    "    )\n",
    "tdMACD = TimingDigger(output_folder='.', output_format='pdf', signal_name='MACD_Hist')\n",
    "TimingSignal(tdMACD, dv4H, 'longMACD', 'shortMACD', 'closeLongMACD', 'closeShortMACD', mhp=100, sl=0.05, sp=0.3)\n",
    "\n",
    "tdMACD.create_event_report(sig_type=\"long\")\n",
    "tdMACD.create_event_report(sig_type=\"short\")\n",
    "tdMACD.create_event_report(sig_type=\"long_short\")"
   ]
  },
  {
   "cell_type": "code",
   "execution_count": 44,
   "metadata": {},
   "outputs": [
    {
     "name": "stdout",
     "output_type": "stream",
     "text": [
      "Initialize dataview success.\n"
     ]
    }
   ],
   "source": [
    "path = r'../min_data/VnTrader_1Min_Db'\n",
    "props = {'fields': 'open,high,low,close,volume',\n",
    "         'symbol': 'EOSUSDT:binance',\n",
    "         'freq': '30Min,2H',\n",
    "         'start_date':20180601000000}\n",
    "\n",
    "Time_dict = ds.bar_reader(path,props) #读取数据\n",
    "\n",
    "from jaqs_fxdayu.data.hf_dataview import HFDataView\n",
    "\n",
    "dv2H = HFDataView()\n",
    "dv2H.create_init_dv(Time_dict['2H'].dropna().set_index([\"trade_date\",\"symbol\"]))\n",
    "\n",
    "dv2H.add_formula('MACD',\"Ta('EMA',0,0,0,0,close,0,12)-Ta('EMA',0,0,0,0,close,0,26)\",add_data=True)\n",
    "dv2H.add_formula('MACD_Signal',\"Ta('EMA',0,0,0,0,MACD,0,9)\",add_data=True)\n",
    "dv2H.add_formula('MACD_Hist',\"(MACD-MACD_Signal)\",add_data=True)\n",
    "\n",
    "MACD=dv2H.get_ts('MACD', date_type='datetime') \n",
    "MACD_Signal=dv2H.get_ts('MACD_Signal', date_type='datetime') \n",
    "MACD_Hist=dv2H.get_ts('MACD_Hist', date_type='datetime') "
   ]
  },
  {
   "cell_type": "code",
   "execution_count": 46,
   "metadata": {},
   "outputs": [
    {
     "data": {
      "text/plain": [
       "Series([], dtype: float64)"
      ]
     },
     "execution_count": 46,
     "metadata": {},
     "output_type": "execute_result"
    }
   ],
   "source": [
    "#进场信号\n",
    "long = dv2H.add_formula('longMACD','If((MACD_Hist>0) && (Delay(MACD_Hist,1)<=0),2,0)',add_data = True)    \n",
    "short = dv2H.add_formula('shortMACD','If((MACD_Hist<=0) && (Delay(MACD_Hist,1)>0),-2,0)',add_data = True)  \n",
    "#出场信号\n",
    "close_long = dv2H.add_formula('closeLongMACD','If(longMACD==-2,1,0)',add_data = True)\n",
    "close_short = dv2H.add_formula('closeShortMACD','If(shortMACD==2,-1,0)',add_data = True)\n",
    "\n",
    "dv2H.get_ts('longMACD').stack()[dv2H.get_ts('longMACD').stack()==2]\n",
    "dv2H.get_ts('shortMACD').stack()[dv2H.get_ts('shortMACD').stack()==2]"
   ]
  },
  {
   "cell_type": "code",
   "execution_count": 47,
   "metadata": {},
   "outputs": [
    {
     "name": "stdout",
     "output_type": "stream",
     "text": [
      "Nan Data Count (should be zero) : 0;  Percentage of effective data: 3%\n",
      "Nan Data Count (should be zero) : 0;  Percentage of effective data: 3%\n",
      "*****-Summary-*****\n",
      "Event Analysis\n",
      "                      win    loss     all\n",
      "t-stat              3.772 -21.346  -1.370\n",
      "p-value             0.005   0.000   0.178\n",
      "mean                0.171  -0.070  -0.023\n",
      "std                 0.129   0.020   0.113\n",
      "info_ratio          1.334  -3.558  -0.204\n",
      "skewness           -0.038  -0.480   2.207\n",
      "kurtosis           -1.777  -0.344   3.619\n",
      "pct5                0.011  -0.108  -0.106\n",
      "pct25               0.040  -0.081  -0.076\n",
      "pct50               0.159  -0.067  -0.062\n",
      "pct75               0.305  -0.054  -0.051\n",
      "pct95               0.313  -0.051   0.304\n",
      "occurance           9.000  37.000  46.000\n",
      "win_ratio             NaN     NaN   0.196\n",
      "win_mean/loss_mean    NaN     NaN   2.436\n",
      "*****-Summary-*****\n",
      "Event Analysis\n",
      "                       win    loss     all\n",
      "t-stat              11.180 -18.947   1.813\n",
      "p-value              0.000   0.000   0.077\n",
      "mean                 0.234  -0.070   0.042\n",
      "std                  0.084   0.020   0.156\n",
      "info_ratio           2.795  -3.581   0.270\n",
      "skewness            -0.493  -0.917   0.790\n",
      "kurtosis            -1.285   2.128  -1.080\n",
      "pct5                 0.094  -0.100  -0.096\n",
      "pct25                0.147  -0.079  -0.071\n",
      "pct50                0.256  -0.068  -0.057\n",
      "pct75                0.303  -0.059   0.164\n",
      "pct95                0.329  -0.051   0.313\n",
      "occurance           17.000  29.000  46.000\n",
      "win_ratio              NaN     NaN   0.370\n",
      "win_mean/loss_mean     NaN     NaN   3.332\n",
      "*****-Summary-*****\n",
      "Event Analysis\n",
      "                       win    loss     all\n",
      "t-stat              10.037 -28.763   0.652\n",
      "p-value              0.000   0.000   0.516\n",
      "mean                 0.212  -0.070   0.010\n",
      "std                  0.106   0.020   0.140\n",
      "info_ratio           2.007  -3.568   0.068\n",
      "skewness            -0.540  -0.670   1.331\n",
      "kurtosis            -1.160   0.720   0.158\n",
      "pct5                 0.027  -0.106  -0.101\n",
      "pct25                0.135  -0.079  -0.072\n",
      "pct50                0.247  -0.067  -0.059\n",
      "pct75                0.303  -0.057   0.051\n",
      "pct95                0.326  -0.051   0.307\n",
      "occurance           26.000  66.000  92.000\n",
      "win_ratio              NaN     NaN   0.283\n",
      "win_mean/loss_mean     NaN     NaN   3.021\n"
     ]
    }
   ],
   "source": [
    "from jaqs_fxdayu.research import TimingDigger\n",
    "\n",
    "def TimingSignal(td, dv, long='long', short='short', closeLong='closeLong', closeShort='closeShort', mhp=None, sl=None, sp=None):\n",
    "    \n",
    "    td.process_signal(\n",
    "        sig_type='long',\n",
    "        enter_signal=dv.get_ts(long),\n",
    "        exit_signal=dv.get_ts(closeLong),\n",
    "        price=dv.get_ts('close'),\n",
    "        max_holding_period=mhp,\n",
    "        stoploss=-sl,\n",
    "        stopprofit=sp\n",
    "    )\n",
    "    \n",
    "    td.process_signal(\n",
    "        sig_type='short',\n",
    "        enter_signal=dv.get_ts(short),\n",
    "        exit_signal=dv.get_ts(closeShort),\n",
    "        price=dv.get_ts('close'),\n",
    "        max_holding_period=mhp,\n",
    "        stoploss=-sl,\n",
    "        stopprofit=sp\n",
    "    )\n",
    "tdMACD = TimingDigger(output_folder='.', output_format='pdf', signal_name='MACD_Hist')\n",
    "TimingSignal(tdMACD, dv2H, 'longMACD', 'shortMACD', 'closeLongMACD', 'closeShortMACD', mhp=100, sl=0.05, sp=0.3)\n",
    "\n",
    "tdMACD.create_event_report(sig_type=\"long\")\n",
    "tdMACD.create_event_report(sig_type=\"short\")\n",
    "tdMACD.create_event_report(sig_type=\"long_short\")"
   ]
  },
  {
   "cell_type": "code",
   "execution_count": null,
   "metadata": {
    "collapsed": true
   },
   "outputs": [],
   "source": []
  }
 ],
 "metadata": {
  "kernelspec": {
   "display_name": "Python 3",
   "language": "python",
   "name": "python3"
  },
  "language_info": {
   "codemirror_mode": {
    "name": "ipython",
    "version": 3
   },
   "file_extension": ".py",
   "mimetype": "text/x-python",
   "name": "python",
   "nbconvert_exporter": "python",
   "pygments_lexer": "ipython3",
   "version": "3.6.2"
  }
 },
 "nbformat": 4,
 "nbformat_minor": 2
}
